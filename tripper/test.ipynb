{
 "cells": [
  {
   "cell_type": "code",
   "execution_count": 14,
   "metadata": {},
   "outputs": [
    {
     "ename": "ImportError",
     "evalue": "cannot import name 'TriplestoreDataHandler' from 'triplestore' (/home/alfredosg/team40/tripper/tripper/triplestore.py)",
     "output_type": "error",
     "traceback": [
      "\u001b[0;31m---------------------------------------------------------------------------\u001b[0m",
      "\u001b[0;31mImportError\u001b[0m                               Traceback (most recent call last)",
      "Cell \u001b[0;32mIn[14], line 1\u001b[0m\n\u001b[0;32m----> 1\u001b[0m \u001b[39mfrom\u001b[39;00m \u001b[39mtriplestore\u001b[39;00m \u001b[39mimport\u001b[39;00m Triplestore, TriplestoreDataHandler\n",
      "\u001b[0;31mImportError\u001b[0m: cannot import name 'TriplestoreDataHandler' from 'triplestore' (/home/alfredosg/team40/tripper/tripper/triplestore.py)"
     ]
    }
   ],
   "source": [
    "from triplestore import Triplestore, TriplestoreDataHandler"
   ]
  },
  {
   "cell_type": "code",
   "execution_count": 2,
   "metadata": {},
   "outputs": [],
   "source": [
    "stsdh1 = TriplestoreDataHandler('rdflib')"
   ]
  },
  {
   "cell_type": "code",
   "execution_count": 9,
   "metadata": {},
   "outputs": [
    {
     "ename": "ImportError",
     "evalue": "cannot import name 'TriplestoreDataHandler' from 'triplestore' (/home/alfredosg/team40/tripper/tripper/triplestore.py)",
     "output_type": "error",
     "traceback": [
      "\u001b[0;31m---------------------------------------------------------------------------\u001b[0m",
      "\u001b[0;31mImportError\u001b[0m                               Traceback (most recent call last)",
      "Cell \u001b[0;32mIn[9], line 1\u001b[0m\n\u001b[0;32m----> 1\u001b[0m \u001b[39mfrom\u001b[39;00m \u001b[39mtriplestore\u001b[39;00m \u001b[39mimport\u001b[39;00m TriplestoreDataHandler \u001b[39mas\u001b[39;00m tsdh\n",
      "\u001b[0;31mImportError\u001b[0m: cannot import name 'TriplestoreDataHandler' from 'triplestore' (/home/alfredosg/team40/tripper/tripper/triplestore.py)"
     ]
    }
   ],
   "source": [
    "from triplestore import TriplestoreDataHandler as tsdh"
   ]
  },
  {
   "cell_type": "code",
   "execution_count": 4,
   "metadata": {},
   "outputs": [],
   "source": [
    "stsdh2 = tsdh('rdflib')"
   ]
  },
  {
   "cell_type": "code",
   "execution_count": 5,
   "metadata": {},
   "outputs": [],
   "source": [
    "from tripper import triplestore"
   ]
  },
  {
   "cell_type": "code",
   "execution_count": 6,
   "metadata": {},
   "outputs": [
    {
     "data": {
      "text/plain": [
       "<tripper.triplestore.TriplestoreDataHandler at 0x7fc3cae4bdc0>"
      ]
     },
     "execution_count": 6,
     "metadata": {},
     "output_type": "execute_result"
    }
   ],
   "source": [
    "triplestore.TriplestoreDataHandler('rdflib')"
   ]
  },
  {
   "cell_type": "code",
   "execution_count": 3,
   "metadata": {},
   "outputs": [],
   "source": [
    "from tripper import Triplestore, Literal"
   ]
  },
  {
   "cell_type": "code",
   "execution_count": 4,
   "metadata": {},
   "outputs": [],
   "source": [
    "ts = Triplestore(backend=\"rdflib\")\n",
    "EX = ts.bind(\"ex\", \"http://example.com/onto#\")"
   ]
  },
  {
   "cell_type": "code",
   "execution_count": 13,
   "metadata": {},
   "outputs": [
    {
     "ename": "AttributeError",
     "evalue": "type object 'Triplestore' has no attribute 'add_data'",
     "output_type": "error",
     "traceback": [
      "\u001b[0;31m---------------------------------------------------------------------------\u001b[0m",
      "\u001b[0;31mAttributeError\u001b[0m                            Traceback (most recent call last)",
      "Cell \u001b[0;32mIn[13], line 1\u001b[0m\n\u001b[0;32m----> 1\u001b[0m string_iri \u001b[39m=\u001b[39m ts\u001b[39m.\u001b[39;49madd_data(Literal(\u001b[39m\"\u001b[39m\u001b[39mstring value\u001b[39m\u001b[39m\"\u001b[39m), EX\u001b[39m.\u001b[39mDescription)\n",
      "\u001b[0;31mAttributeError\u001b[0m: type object 'Triplestore' has no attribute 'add_data'"
     ]
    }
   ],
   "source": [
    "string_iri = ts.add_data(Literal(\"string value\"), EX.Description)"
   ]
  },
  {
   "cell_type": "code",
   "execution_count": 8,
   "metadata": {},
   "outputs": [
    {
     "ename": "AttributeError",
     "evalue": "'Triplestore' object has no attribute 'get_value'",
     "output_type": "error",
     "traceback": [
      "\u001b[0;31m---------------------------------------------------------------------------\u001b[0m",
      "\u001b[0;31mAttributeError\u001b[0m                            Traceback (most recent call last)",
      "Cell \u001b[0;32mIn[8], line 1\u001b[0m\n\u001b[0;32m----> 1\u001b[0m ts\u001b[39m.\u001b[39;49mget_value\n",
      "\u001b[0;31mAttributeError\u001b[0m: 'Triplestore' object has no attribute 'get_value'"
     ]
    }
   ],
   "source": [
    "ts.get_value"
   ]
  },
  {
   "cell_type": "code",
   "execution_count": 10,
   "metadata": {},
   "outputs": [],
   "source": [
    "from tripper import Triplestore as ts"
   ]
  },
  {
   "cell_type": "code",
   "execution_count": 12,
   "metadata": {},
   "outputs": [
    {
     "ename": "AttributeError",
     "evalue": "type object 'Triplestore' has no attribute 'add_data'",
     "output_type": "error",
     "traceback": [
      "\u001b[0;31m---------------------------------------------------------------------------\u001b[0m",
      "\u001b[0;31mAttributeError\u001b[0m                            Traceback (most recent call last)",
      "Cell \u001b[0;32mIn[12], line 1\u001b[0m\n\u001b[0;32m----> 1\u001b[0m ts\u001b[39m.\u001b[39;49madd_data\n",
      "\u001b[0;31mAttributeError\u001b[0m: type object 'Triplestore' has no attribute 'add_data'"
     ]
    }
   ],
   "source": [
    "ts.add_data"
   ]
  },
  {
   "cell_type": "code",
   "execution_count": 15,
   "metadata": {},
   "outputs": [
    {
     "name": "stdout",
     "output_type": "stream",
     "text": [
      "/home/alfredosg/.envs/dlite/bin/python\n"
     ]
    }
   ],
   "source": [
    "!which python"
   ]
  },
  {
   "cell_type": "code",
   "execution_count": 18,
   "metadata": {},
   "outputs": [],
   "source": [
    "from tripper.triplestore import Triplestore, TriplestoreDataHandler"
   ]
  },
  {
   "cell_type": "code",
   "execution_count": 19,
   "metadata": {},
   "outputs": [
    {
     "data": {
      "text/plain": [
       "<function tripper.triplestore.TriplestoreDataHandler.add_data(self, func: \"'Union[Callable, Literal]'\", iri: \"'Optional[Union[str, Sequence]]'\" = None, configurations: \"'Optional[dict]'\" = None, base_iri: \"'Optional[str]'\" = None, standard: 'str' = 'emmo', cost: \"'Optional[Union[float, Callable]]'\" = None) -> 'str'>"
      ]
     },
     "execution_count": 19,
     "metadata": {},
     "output_type": "execute_result"
    }
   ],
   "source": [
    "TriplestoreDataHandler.add_data"
   ]
  },
  {
   "cell_type": "code",
   "execution_count": null,
   "metadata": {},
   "outputs": [],
   "source": []
  }
 ],
 "metadata": {
  "kernelspec": {
   "display_name": "dlite",
   "language": "python",
   "name": "python3"
  },
  "language_info": {
   "codemirror_mode": {
    "name": "ipython",
    "version": 3
   },
   "file_extension": ".py",
   "mimetype": "text/x-python",
   "name": "python",
   "nbconvert_exporter": "python",
   "pygments_lexer": "ipython3",
   "version": "3.8.10"
  },
  "orig_nbformat": 4
 },
 "nbformat": 4,
 "nbformat_minor": 2
}
